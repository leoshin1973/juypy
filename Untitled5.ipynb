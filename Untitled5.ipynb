{
  "nbformat": 4,
  "nbformat_minor": 0,
  "metadata": {
    "colab": {
      "name": "Untitled5.ipynb",
      "provenance": [],
      "authorship_tag": "ABX9TyOgIDXhF3xbUK5O47yLUwds",
      "include_colab_link": true
    },
    "kernelspec": {
      "name": "python3",
      "display_name": "Python 3"
    },
    "language_info": {
      "name": "python"
    },
    "accelerator": "GPU"
  },
  "cells": [
    {
      "cell_type": "markdown",
      "metadata": {
        "id": "view-in-github",
        "colab_type": "text"
      },
      "source": [
        "<a href=\"https://colab.research.google.com/github/leoshin1973/juypy/blob/master/Untitled5.ipynb\" target=\"_parent\"><img src=\"https://colab.research.google.com/assets/colab-badge.svg\" alt=\"Open In Colab\"/></a>"
      ]
    },
    {
      "cell_type": "code",
      "execution_count": null,
      "metadata": {
        "colab": {
          "base_uri": "https://localhost:8080/"
        },
        "id": "PcAYIA8oXT1e",
        "outputId": "1040f56b-2841-47c2-d0de-137346a4120e"
      },
      "outputs": [
        {
          "output_type": "stream",
          "name": "stderr",
          "text": [
            "/usr/local/lib/python3.7/dist-packages/statsmodels/tools/_testing.py:19: FutureWarning: pandas.util.testing is deprecated. Use the functions in the public API at pandas.testing instead.\n",
            "  import pandas.util.testing as tm\n"
          ]
        }
      ],
      "source": [
        "import statsmodels.api as sm\n",
        "import statsmodels.formula.api as smf"
      ]
    },
    {
      "cell_type": "code",
      "source": [
        "# 랜덤 데이터 생성. 평균, 분산이 다른 정규분포에서 난수 생성\n",
        "import numpy as np \n",
        "def dnorm(mean, variance, size=1):\n",
        "    if isinstance(size, int):\n",
        "        size = size,\n",
        "    return mean + np.sqrt(variance) * np.random.randn(*size)"
      ],
      "metadata": {
        "id": "cVvw2ZpDaT-G"
      },
      "execution_count": null,
      "outputs": []
    },
    {
      "cell_type": "code",
      "source": [
        "np.random.seed(12345) # 난수값 고정\n",
        "\n",
        "N = 100\n",
        "X = np.c_[dnorm(0, 0.4, size=N),\n",
        "          dnorm(0, 0.6, size=N),\n",
        "          dnorm(0, 0.2, size=N)]\n",
        "eps = dnorm(0, 0.1, size=N)\n",
        "beta = [0.1, 0.3, 0.5]\n",
        "\n",
        "y = np.dot(X, beta) + eps"
      ],
      "metadata": {
        "id": "9vJM9v_Faraf"
      },
      "execution_count": null,
      "outputs": []
    },
    {
      "cell_type": "code",
      "source": [
        "import pandas as pd \n",
        "\n",
        "data = pd.DataFrame(X, columns=['col1', 'col2', 'col3'])"
      ],
      "metadata": {
        "id": "QsG5XkkCaz6A"
      },
      "execution_count": null,
      "outputs": []
    },
    {
      "cell_type": "code",
      "source": [
        "data['y'] = y \n",
        "data[:3]"
      ],
      "metadata": {
        "colab": {
          "base_uri": "https://localhost:8080/",
          "height": 143
        },
        "id": "oTbJlQssb_cM",
        "outputId": "cd7db6dc-6f45-402c-8b20-6e8c766d0232"
      },
      "execution_count": null,
      "outputs": [
        {
          "output_type": "execute_result",
          "data": {
            "text/plain": [
              "       col1      col2      col3         y\n",
              "0 -0.129468 -1.212753  0.504225  0.427863\n",
              "1  0.302910 -0.435742 -0.254180 -0.673480\n",
              "2 -0.328522 -0.025302  0.138351 -0.090878"
            ],
            "text/html": [
              "\n",
              "  <div id=\"df-5fbf2019-da3e-44d3-86ef-0a41e998fab8\">\n",
              "    <div class=\"colab-df-container\">\n",
              "      <div>\n",
              "<style scoped>\n",
              "    .dataframe tbody tr th:only-of-type {\n",
              "        vertical-align: middle;\n",
              "    }\n",
              "\n",
              "    .dataframe tbody tr th {\n",
              "        vertical-align: top;\n",
              "    }\n",
              "\n",
              "    .dataframe thead th {\n",
              "        text-align: right;\n",
              "    }\n",
              "</style>\n",
              "<table border=\"1\" class=\"dataframe\">\n",
              "  <thead>\n",
              "    <tr style=\"text-align: right;\">\n",
              "      <th></th>\n",
              "      <th>col1</th>\n",
              "      <th>col2</th>\n",
              "      <th>col3</th>\n",
              "      <th>y</th>\n",
              "    </tr>\n",
              "  </thead>\n",
              "  <tbody>\n",
              "    <tr>\n",
              "      <th>0</th>\n",
              "      <td>-0.129468</td>\n",
              "      <td>-1.212753</td>\n",
              "      <td>0.504225</td>\n",
              "      <td>0.427863</td>\n",
              "    </tr>\n",
              "    <tr>\n",
              "      <th>1</th>\n",
              "      <td>0.302910</td>\n",
              "      <td>-0.435742</td>\n",
              "      <td>-0.254180</td>\n",
              "      <td>-0.673480</td>\n",
              "    </tr>\n",
              "    <tr>\n",
              "      <th>2</th>\n",
              "      <td>-0.328522</td>\n",
              "      <td>-0.025302</td>\n",
              "      <td>0.138351</td>\n",
              "      <td>-0.090878</td>\n",
              "    </tr>\n",
              "  </tbody>\n",
              "</table>\n",
              "</div>\n",
              "      <button class=\"colab-df-convert\" onclick=\"convertToInteractive('df-5fbf2019-da3e-44d3-86ef-0a41e998fab8')\"\n",
              "              title=\"Convert this dataframe to an interactive table.\"\n",
              "              style=\"display:none;\">\n",
              "        \n",
              "  <svg xmlns=\"http://www.w3.org/2000/svg\" height=\"24px\"viewBox=\"0 0 24 24\"\n",
              "       width=\"24px\">\n",
              "    <path d=\"M0 0h24v24H0V0z\" fill=\"none\"/>\n",
              "    <path d=\"M18.56 5.44l.94 2.06.94-2.06 2.06-.94-2.06-.94-.94-2.06-.94 2.06-2.06.94zm-11 1L8.5 8.5l.94-2.06 2.06-.94-2.06-.94L8.5 2.5l-.94 2.06-2.06.94zm10 10l.94 2.06.94-2.06 2.06-.94-2.06-.94-.94-2.06-.94 2.06-2.06.94z\"/><path d=\"M17.41 7.96l-1.37-1.37c-.4-.4-.92-.59-1.43-.59-.52 0-1.04.2-1.43.59L10.3 9.45l-7.72 7.72c-.78.78-.78 2.05 0 2.83L4 21.41c.39.39.9.59 1.41.59.51 0 1.02-.2 1.41-.59l7.78-7.78 2.81-2.81c.8-.78.8-2.07 0-2.86zM5.41 20L4 18.59l7.72-7.72 1.47 1.35L5.41 20z\"/>\n",
              "  </svg>\n",
              "      </button>\n",
              "      \n",
              "  <style>\n",
              "    .colab-df-container {\n",
              "      display:flex;\n",
              "      flex-wrap:wrap;\n",
              "      gap: 12px;\n",
              "    }\n",
              "\n",
              "    .colab-df-convert {\n",
              "      background-color: #E8F0FE;\n",
              "      border: none;\n",
              "      border-radius: 50%;\n",
              "      cursor: pointer;\n",
              "      display: none;\n",
              "      fill: #1967D2;\n",
              "      height: 32px;\n",
              "      padding: 0 0 0 0;\n",
              "      width: 32px;\n",
              "    }\n",
              "\n",
              "    .colab-df-convert:hover {\n",
              "      background-color: #E2EBFA;\n",
              "      box-shadow: 0px 1px 2px rgba(60, 64, 67, 0.3), 0px 1px 3px 1px rgba(60, 64, 67, 0.15);\n",
              "      fill: #174EA6;\n",
              "    }\n",
              "\n",
              "    [theme=dark] .colab-df-convert {\n",
              "      background-color: #3B4455;\n",
              "      fill: #D2E3FC;\n",
              "    }\n",
              "\n",
              "    [theme=dark] .colab-df-convert:hover {\n",
              "      background-color: #434B5C;\n",
              "      box-shadow: 0px 1px 3px 1px rgba(0, 0, 0, 0.15);\n",
              "      filter: drop-shadow(0px 1px 2px rgba(0, 0, 0, 0.3));\n",
              "      fill: #FFFFFF;\n",
              "    }\n",
              "  </style>\n",
              "\n",
              "      <script>\n",
              "        const buttonEl =\n",
              "          document.querySelector('#df-5fbf2019-da3e-44d3-86ef-0a41e998fab8 button.colab-df-convert');\n",
              "        buttonEl.style.display =\n",
              "          google.colab.kernel.accessAllowed ? 'block' : 'none';\n",
              "\n",
              "        async function convertToInteractive(key) {\n",
              "          const element = document.querySelector('#df-5fbf2019-da3e-44d3-86ef-0a41e998fab8');\n",
              "          const dataTable =\n",
              "            await google.colab.kernel.invokeFunction('convertToInteractive',\n",
              "                                                     [key], {});\n",
              "          if (!dataTable) return;\n",
              "\n",
              "          const docLinkHtml = 'Like what you see? Visit the ' +\n",
              "            '<a target=\"_blank\" href=https://colab.research.google.com/notebooks/data_table.ipynb>data table notebook</a>'\n",
              "            + ' to learn more about interactive tables.';\n",
              "          element.innerHTML = '';\n",
              "          dataTable['output_type'] = 'display_data';\n",
              "          await google.colab.output.renderOutput(dataTable, element);\n",
              "          const docLink = document.createElement('div');\n",
              "          docLink.innerHTML = docLinkHtml;\n",
              "          element.appendChild(docLink);\n",
              "        }\n",
              "      </script>\n",
              "    </div>\n",
              "  </div>\n",
              "  "
            ]
          },
          "metadata": {},
          "execution_count": 24
        }
      ]
    },
    {
      "cell_type": "code",
      "source": [
        "# result = smf.ols('y ~ col1 + col2 + col3', data=data).fit()\n",
        "result = smf.ols('y ~ col1 + col2 + col3', data=data).fit()"
      ],
      "metadata": {
        "id": "WnSg29Ioc4f9"
      },
      "execution_count": null,
      "outputs": []
    },
    {
      "cell_type": "code",
      "source": [
        ""
      ],
      "metadata": {
        "id": "EkMQlYRqjb93"
      },
      "execution_count": null,
      "outputs": []
    },
    {
      "cell_type": "code",
      "source": [
        ""
      ],
      "metadata": {
        "id": "oi83eHsQeVhR"
      },
      "execution_count": null,
      "outputs": []
    },
    {
      "cell_type": "code",
      "source": [
        "result.params"
      ],
      "metadata": {
        "colab": {
          "base_uri": "https://localhost:8080/"
        },
        "id": "b-CPJof_dQft",
        "outputId": "b5217b54-f32a-4e42-8d59-bf9f3b18f080"
      },
      "execution_count": null,
      "outputs": [
        {
          "output_type": "execute_result",
          "data": {
            "text/plain": [
              "Intercept    0.033559\n",
              "col1         0.176149\n",
              "col2         0.224826\n",
              "col3         0.514808\n",
              "dtype: float64"
            ]
          },
          "metadata": {},
          "execution_count": 27
        }
      ]
    },
    {
      "cell_type": "code",
      "source": [
        "import matplotlib.pyplot as plt\n",
        "import seaborn as sns\n",
        "%matplotlib inline"
      ],
      "metadata": {
        "id": "e0P9YAlBeXyE"
      },
      "execution_count": null,
      "outputs": []
    },
    {
      "cell_type": "code",
      "source": [
        "plt.subplot(1, 3, 1) \n",
        "sns.regplot(x=data['col1'], y=data['y'], color='red')\n",
        "plt.subplot(1, 3, 2)\n",
        "sns.regplot(x=data['col2'], y=data['y'], color='blue')\n",
        "plt.subplot(1, 3, 3)\n",
        "sns.regplot(x=data['col3'], y=data['y'], color='green')"
      ],
      "metadata": {
        "colab": {
          "base_uri": "https://localhost:8080/",
          "height": 297
        },
        "id": "DepYTMoaecg6",
        "outputId": "ad0de29a-5559-40c4-a617-cfd79e42d943"
      },
      "execution_count": null,
      "outputs": [
        {
          "output_type": "execute_result",
          "data": {
            "text/plain": [
              "<matplotlib.axes._subplots.AxesSubplot at 0x7fdff41cedd0>"
            ]
          },
          "metadata": {},
          "execution_count": 36
        },
        {
          "output_type": "display_data",
          "data": {
            "text/plain": [
              "<Figure size 432x288 with 3 Axes>"
            ],
            "image/png": "[encoded data removed]"
          },
          "metadata": {
            "needs_background": "light"
          }
        }
      ]
    },
    {
      "cell_type": "code",
      "source": [
        "result.predict(data[:3])"
      ],
      "metadata": {
        "colab": {
          "base_uri": "https://localhost:8080/"
        },
        "id": "hMqQZLEQfb5B",
        "outputId": "eec16570-f09d-4860-8d6c-e47fac26dba5"
      },
      "execution_count": null,
      "outputs": [
        {
          "output_type": "execute_result",
          "data": {
            "text/plain": [
              "0   -0.002327\n",
              "1   -0.141904\n",
              "2    0.041226\n",
              "dtype: float64"
            ]
          },
          "metadata": {},
          "execution_count": 39
        }
      ]
    },
    {
      "cell_type": "code",
      "source": [
        "# !pip install -U finance-datareader\n",
        "import FinanceDataReader as fdr "
      ],
      "metadata": {
        "id": "93CmTntZgsL-"
      },
      "execution_count": null,
      "outputs": []
    },
    {
      "cell_type": "code",
      "source": [
        "df = fdr.DataReader('HG', '2000-01-01', '2022-04-30') #구리\n",
        "df.to_csv('구리가격.csv') # 구리가격 저장\n",
        "series = pd.read_csv('구리가격.csv', header=0, squeeze=True)\n",
        "series.plot()\n",
        "data = series['Close']\n",
        "data.plot()"
      ],
      "metadata": {
        "colab": {
          "base_uri": "https://localhost:8080/",
          "height": 283
        },
        "id": "O2aBWYoshBjx",
        "outputId": "779367e7-0a3b-463e-d555-04c4a99d21bf"
      },
      "execution_count": null,
      "outputs": [
        {
          "output_type": "execute_result",
          "data": {
            "text/plain": [
              "<matplotlib.axes._subplots.AxesSubplot at 0x7fdff413a1d0>"
            ]
          },
          "metadata": {},
          "execution_count": 42
        },
        {
          "output_type": "display_data",
          "data": {
            "text/plain": [
              "<Figure size 432x288 with 1 Axes>"
            ],
            "image/png": "[encoded data removed]"
          },
          "metadata": {
            "needs_background": "light"
          }
        }
      ]
    },
    {
      "cell_type": "code",
      "source": [
        "series.tail()\n"
      ],
      "metadata": {
        "colab": {
          "base_uri": "https://localhost:8080/",
          "height": 206
        },
        "id": "B1vmv_UDhZAL",
        "outputId": "5f07ff28-a089-42bd-9ac3-706a47568feb"
      },
      "execution_count": null,
      "outputs": [
        {
          "output_type": "execute_result",
          "data": {
            "text/plain": [
              "            Date   Close    Open    High     Low   Volume  Change\n",
              "5476  2022-04-25  4.4720  4.6020  4.6220  4.4300  75150.0 -0.0282\n",
              "5477  2022-04-26  4.4640  4.4995  4.5445  4.4080  58650.0 -0.0018\n",
              "5478  2022-04-27  4.4750  4.4155  4.5145  4.4155  71220.0  0.0025\n",
              "5479  2022-04-28  4.4335  4.4645  4.4935  4.3865  50920.0 -0.0093\n",
              "5480  2022-04-29  4.4085  4.4440  4.5120  4.3715  49490.0 -0.0056"
            ],
            "text/html": [
              "\n",
              "  <div id=\"df-f91e520c-89cd-496b-a49d-bf577c727614\">\n",
              "    <div class=\"colab-df-container\">\n",
              "      <div>\n",
              "<style scoped>\n",
              "    .dataframe tbody tr th:only-of-type {\n",
              "        vertical-align: middle;\n",
              "    }\n",
              "\n",
              "    .dataframe tbody tr th {\n",
              "        vertical-align: top;\n",
              "    }\n",
              "\n",
              "    .dataframe thead th {\n",
              "        text-align: right;\n",
              "    }\n",
              "</style>\n",
              "<table border=\"1\" class=\"dataframe\">\n",
              "  <thead>\n",
              "    <tr style=\"text-align: right;\">\n",
              "      <th></th>\n",
              "      <th>Date</th>\n",
              "      <th>Close</th>\n",
              "      <th>Open</th>\n",
              "      <th>High</th>\n",
              "      <th>Low</th>\n",
              "      <th>Volume</th>\n",
              "      <th>Change</th>\n",
              "    </tr>\n",
              "  </thead>\n",
              "  <tbody>\n",
              "    <tr>\n",
              "      <th>5476</th>\n",
              "      <td>2022-04-25</td>\n",
              "      <td>4.4720</td>\n",
              "      <td>4.6020</td>\n",
              "      <td>4.6220</td>\n",
              "      <td>4.4300</td>\n",
              "      <td>75150.0</td>\n",
              "      <td>-0.0282</td>\n",
              "    </tr>\n",
              "    <tr>\n",
              "      <th>5477</th>\n",
              "      <td>2022-04-26</td>\n",
              "      <td>4.4640</td>\n",
              "      <td>4.4995</td>\n",
              "      <td>4.5445</td>\n",
              "      <td>4.4080</td>\n",
              "      <td>58650.0</td>\n",
              "      <td>-0.0018</td>\n",
              "    </tr>\n",
              "    <tr>\n",
              "      <th>5478</th>\n",
              "      <td>2022-04-27</td>\n",
              "      <td>4.4750</td>\n",
              "      <td>4.4155</td>\n",
              "      <td>4.5145</td>\n",
              "      <td>4.4155</td>\n",
              "      <td>71220.0</td>\n",
              "      <td>0.0025</td>\n",
              "    </tr>\n",
              "    <tr>\n",
              "      <th>5479</th>\n",
              "      <td>2022-04-28</td>\n",
              "      <td>4.4335</td>\n",
              "      <td>4.4645</td>\n",
              "      <td>4.4935</td>\n",
              "      <td>4.3865</td>\n",
              "      <td>50920.0</td>\n",
              "      <td>-0.0093</td>\n",
              "    </tr>\n",
              "    <tr>\n",
              "      <th>5480</th>\n",
              "      <td>2022-04-29</td>\n",
              "      <td>4.4085</td>\n",
              "      <td>4.4440</td>\n",
              "      <td>4.5120</td>\n",
              "      <td>4.3715</td>\n",
              "      <td>49490.0</td>\n",
              "      <td>-0.0056</td>\n",
              "    </tr>\n",
              "  </tbody>\n",
              "</table>\n",
              "</div>\n",
              "      <button class=\"colab-df-convert\" onclick=\"convertToInteractive('df-f91e520c-89cd-496b-a49d-bf577c727614')\"\n",
              "              title=\"Convert this dataframe to an interactive table.\"\n",
              "              style=\"display:none;\">\n",
              "        \n",
              "  <svg xmlns=\"http://www.w3.org/2000/svg\" height=\"24px\"viewBox=\"0 0 24 24\"\n",
              "       width=\"24px\">\n",
              "    <path d=\"M0 0h24v24H0V0z\" fill=\"none\"/>\n",
              "    <path d=\"M18.56 5.44l.94 2.06.94-2.06 2.06-.94-2.06-.94-.94-2.06-.94 2.06-2.06.94zm-11 1L8.5 8.5l.94-2.06 2.06-.94-2.06-.94L8.5 2.5l-.94 2.06-2.06.94zm10 10l.94 2.06.94-2.06 2.06-.94-2.06-.94-.94-2.06-.94 2.06-2.06.94z\"/><path d=\"M17.41 7.96l-1.37-1.37c-.4-.4-.92-.59-1.43-.59-.52 0-1.04.2-1.43.59L10.3 9.45l-7.72 7.72c-.78.78-.78 2.05 0 2.83L4 21.41c.39.39.9.59 1.41.59.51 0 1.02-.2 1.41-.59l7.78-7.78 2.81-2.81c.8-.78.8-2.07 0-2.86zM5.41 20L4 18.59l7.72-7.72 1.47 1.35L5.41 20z\"/>\n",
              "  </svg>\n",
              "      </button>\n",
              "      \n",
              "  <style>\n",
              "    .colab-df-container {\n",
              "      display:flex;\n",
              "      flex-wrap:wrap;\n",
              "      gap: 12px;\n",
              "    }\n",
              "\n",
              "    .colab-df-convert {\n",
              "      background-color: #E8F0FE;\n",
              "      border: none;\n",
              "      border-radius: 50%;\n",
              "      cursor: pointer;\n",
              "      display: none;\n",
              "      fill: #1967D2;\n",
              "      height: 32px;\n",
              "      padding: 0 0 0 0;\n",
              "      width: 32px;\n",
              "    }\n",
              "\n",
              "    .colab-df-convert:hover {\n",
              "      background-color: #E2EBFA;\n",
              "      box-shadow: 0px 1px 2px rgba(60, 64, 67, 0.3), 0px 1px 3px 1px rgba(60, 64, 67, 0.15);\n",
              "      fill: #174EA6;\n",
              "    }\n",
              "\n",
              "    [theme=dark] .colab-df-convert {\n",
              "      background-color: #3B4455;\n",
              "      fill: #D2E3FC;\n",
              "    }\n",
              "\n",
              "    [theme=dark] .colab-df-convert:hover {\n",
              "      background-color: #434B5C;\n",
              "      box-shadow: 0px 1px 3px 1px rgba(0, 0, 0, 0.15);\n",
              "      filter: drop-shadow(0px 1px 2px rgba(0, 0, 0, 0.3));\n",
              "      fill: #FFFFFF;\n",
              "    }\n",
              "  </style>\n",
              "\n",
              "      <script>\n",
              "        const buttonEl =\n",
              "          document.querySelector('#df-f91e520c-89cd-496b-a49d-bf577c727614 button.colab-df-convert');\n",
              "        buttonEl.style.display =\n",
              "          google.colab.kernel.accessAllowed ? 'block' : 'none';\n",
              "\n",
              "        async function convertToInteractive(key) {\n",
              "          const element = document.querySelector('#df-f91e520c-89cd-496b-a49d-bf577c727614');\n",
              "          const dataTable =\n",
              "            await google.colab.kernel.invokeFunction('convertToInteractive',\n",
              "                                                     [key], {});\n",
              "          if (!dataTable) return;\n",
              "\n",
              "          const docLinkHtml = 'Like what you see? Visit the ' +\n",
              "            '<a target=\"_blank\" href=https://colab.research.google.com/notebooks/data_table.ipynb>data table notebook</a>'\n",
              "            + ' to learn more about interactive tables.';\n",
              "          element.innerHTML = '';\n",
              "          dataTable['output_type'] = 'display_data';\n",
              "          await google.colab.output.renderOutput(dataTable, element);\n",
              "          const docLink = document.createElement('div');\n",
              "          docLink.innerHTML = docLinkHtml;\n",
              "          element.appendChild(docLink);\n",
              "        }\n",
              "      </script>\n",
              "    </div>\n",
              "  </div>\n",
              "  "
            ]
          },
          "metadata": {},
          "execution_count": 47
        }
      ]
    },
    {
      "cell_type": "code",
      "source": [
        "result = smf.ols('Date ~ Close', data=series).fit()"
      ],
      "metadata": {
        "id": "HrFIwx3FjeGk"
      },
      "execution_count": null,
      "outputs": []
    },
    {
      "cell_type": "code",
      "source": [
        "result.predict(series[:10])"
      ],
      "metadata": {
        "colab": {
          "base_uri": "https://localhost:8080/",
          "height": 456
        },
        "id": "QjNtMUizjws1",
        "outputId": "3b1c1c73-243b-455b-9cc6-c73b6abf823d"
      },
      "execution_count": null,
      "outputs": [
        {
          "output_type": "execute_result",
          "data": {
            "text/plain": [
              "       0         1         2         3         4         5         6     \\\n",
              "0  0.000611  0.000608  0.000609  0.000609  0.000610  0.000611  0.000606   \n",
              "1  0.000608  0.000606  0.000607  0.000606  0.000608  0.000608  0.000603   \n",
              "2  0.000609  0.000607  0.000607  0.000607  0.000609  0.000609  0.000604   \n",
              "3  0.000609  0.000606  0.000607  0.000607  0.000608  0.000609  0.000604   \n",
              "4  0.000610  0.000608  0.000609  0.000608  0.000610  0.000610  0.000605   \n",
              "5  0.000611  0.000608  0.000609  0.000609  0.000610  0.000611  0.000606   \n",
              "6  0.000606  0.000603  0.000604  0.000604  0.000605  0.000606  0.000600   \n",
              "7  0.000608  0.000606  0.000606  0.000606  0.000608  0.000608  0.000603   \n",
              "8  0.000607  0.000604  0.000605  0.000605  0.000606  0.000607  0.000601   \n",
              "9  0.000605  0.000603  0.000604  0.000603  0.000605  0.000605  0.000600   \n",
              "\n",
              "       7         8         9     ...      5471      5472      5473      5474  \\\n",
              "0  0.000608  0.000607  0.000605  ... -0.000376 -0.000356 -0.000340 -0.000352   \n",
              "1  0.000606  0.000604  0.000603  ... -0.000373 -0.000353 -0.000337 -0.000349   \n",
              "2  0.000606  0.000605  0.000604  ... -0.000374 -0.000354 -0.000338 -0.000350   \n",
              "3  0.000606  0.000605  0.000603  ... -0.000374 -0.000354 -0.000338 -0.000349   \n",
              "4  0.000608  0.000606  0.000605  ... -0.000376 -0.000356 -0.000340 -0.000351   \n",
              "5  0.000608  0.000607  0.000605  ... -0.000376 -0.000356 -0.000340 -0.000352   \n",
              "6  0.000603  0.000601  0.000600  ... -0.000370 -0.000350 -0.000334 -0.000345   \n",
              "7  0.000605  0.000604  0.000603  ... -0.000373 -0.000353 -0.000337 -0.000349   \n",
              "8  0.000604  0.000602  0.000601  ... -0.000371 -0.000351 -0.000335 -0.000347   \n",
              "9  0.000603  0.000601  0.000600  ... -0.000369 -0.000349 -0.000334 -0.000345   \n",
              "\n",
              "       5475      5476      5477      5478      5479      5480  \n",
              "0 -0.000322 -0.000290 -0.000288 -0.000291 -0.000280 -0.000274  \n",
              "1 -0.000319 -0.000287 -0.000285 -0.000288 -0.000278 -0.000271  \n",
              "2 -0.000320 -0.000288 -0.000286 -0.000289 -0.000278 -0.000272  \n",
              "3 -0.000320 -0.000288 -0.000286 -0.000288 -0.000278 -0.000272  \n",
              "4 -0.000322 -0.000289 -0.000287 -0.000290 -0.000280 -0.000274  \n",
              "5 -0.000322 -0.000290 -0.000288 -0.000291 -0.000280 -0.000274  \n",
              "6 -0.000316 -0.000284 -0.000282 -0.000285 -0.000275 -0.000269  \n",
              "7 -0.000319 -0.000287 -0.000285 -0.000288 -0.000277 -0.000271  \n",
              "8 -0.000317 -0.000285 -0.000283 -0.000286 -0.000276 -0.000270  \n",
              "9 -0.000316 -0.000284 -0.000282 -0.000285 -0.000274 -0.000268  \n",
              "\n",
              "[10 rows x 5481 columns]"
            ],
            "text/html": [
              "\n",
              "  <div id=\"df-84f00288-822c-4d8d-ae92-50966ea0ae58\">\n",
              "    <div class=\"colab-df-container\">\n",
              "      <div>\n",
              "<style scoped>\n",
              "    .dataframe tbody tr th:only-of-type {\n",
              "        vertical-align: middle;\n",
              "    }\n",
              "\n",
              "    .dataframe tbody tr th {\n",
              "        vertical-align: top;\n",
              "    }\n",
              "\n",
              "    .dataframe thead th {\n",
              "        text-align: right;\n",
              "    }\n",
              "</style>\n",
              "<table border=\"1\" class=\"dataframe\">\n",
              "  <thead>\n",
              "    <tr style=\"text-align: right;\">\n",
              "      <th></th>\n",
              "      <th>0</th>\n",
              "      <th>1</th>\n",
              "      <th>2</th>\n",
              "      <th>3</th>\n",
              "      <th>4</th>\n",
              "      <th>5</th>\n",
              "      <th>6</th>\n",
              "      <th>7</th>\n",
              "      <th>8</th>\n",
              "      <th>9</th>\n",
              "      <th>...</th>\n",
              "      <th>5471</th>\n",
              "      <th>5472</th>\n",
              "      <th>5473</th>\n",
              "      <th>5474</th>\n",
              "      <th>5475</th>\n",
              "      <th>5476</th>\n",
              "      <th>5477</th>\n",
              "      <th>5478</th>\n",
              "      <th>5479</th>\n",
              "      <th>5480</th>\n",
              "    </tr>\n",
              "  </thead>\n",
              "  <tbody>\n",
              "    <tr>\n",
              "      <th>0</th>\n",
              "      <td>0.000611</td>\n",
              "      <td>0.000608</td>\n",
              "      <td>0.000609</td>\n",
              "      <td>0.000609</td>\n",
              "      <td>0.000610</td>\n",
              "      <td>0.000611</td>\n",
              "      <td>0.000606</td>\n",
              "      <td>0.000608</td>\n",
              "      <td>0.000607</td>\n",
              "      <td>0.000605</td>\n",
              "      <td>...</td>\n",
              "      <td>-0.000376</td>\n",
              "      <td>-0.000356</td>\n",
              "      <td>-0.000340</td>\n",
              "      <td>-0.000352</td>\n",
              "      <td>-0.000322</td>\n",
              "      <td>-0.000290</td>\n",
              "      <td>-0.000288</td>\n",
              "      <td>-0.000291</td>\n",
              "      <td>-0.000280</td>\n",
              "      <td>-0.000274</td>\n",
              "    </tr>\n",
              "    <tr>\n",
              "      <th>1</th>\n",
              "      <td>0.000608</td>\n",
              "      <td>0.000606</td>\n",
              "      <td>0.000607</td>\n",
              "      <td>0.000606</td>\n",
              "      <td>0.000608</td>\n",
              "      <td>0.000608</td>\n",
              "      <td>0.000603</td>\n",
              "      <td>0.000606</td>\n",
              "      <td>0.000604</td>\n",
              "      <td>0.000603</td>\n",
              "      <td>...</td>\n",
              "      <td>-0.000373</td>\n",
              "      <td>-0.000353</td>\n",
              "      <td>-0.000337</td>\n",
              "      <td>-0.000349</td>\n",
              "      <td>-0.000319</td>\n",
              "      <td>-0.000287</td>\n",
              "      <td>-0.000285</td>\n",
              "      <td>-0.000288</td>\n",
              "      <td>-0.000278</td>\n",
              "      <td>-0.000271</td>\n",
              "    </tr>\n",
              "    <tr>\n",
              "      <th>2</th>\n",
              "      <td>0.000609</td>\n",
              "      <td>0.000607</td>\n",
              "      <td>0.000607</td>\n",
              "      <td>0.000607</td>\n",
              "      <td>0.000609</td>\n",
              "      <td>0.000609</td>\n",
              "      <td>0.000604</td>\n",
              "      <td>0.000606</td>\n",
              "      <td>0.000605</td>\n",
              "      <td>0.000604</td>\n",
              "      <td>...</td>\n",
              "      <td>-0.000374</td>\n",
              "      <td>-0.000354</td>\n",
              "      <td>-0.000338</td>\n",
              "      <td>-0.000350</td>\n",
              "      <td>-0.000320</td>\n",
              "      <td>-0.000288</td>\n",
              "      <td>-0.000286</td>\n",
              "      <td>-0.000289</td>\n",
              "      <td>-0.000278</td>\n",
              "      <td>-0.000272</td>\n",
              "    </tr>\n",
              "    <tr>\n",
              "      <th>3</th>\n",
              "      <td>0.000609</td>\n",
              "      <td>0.000606</td>\n",
              "      <td>0.000607</td>\n",
              "      <td>0.000607</td>\n",
              "      <td>0.000608</td>\n",
              "      <td>0.000609</td>\n",
              "      <td>0.000604</td>\n",
              "      <td>0.000606</td>\n",
              "      <td>0.000605</td>\n",
              "      <td>0.000603</td>\n",
              "      <td>...</td>\n",
              "      <td>-0.000374</td>\n",
              "      <td>-0.000354</td>\n",
              "      <td>-0.000338</td>\n",
              "      <td>-0.000349</td>\n",
              "      <td>-0.000320</td>\n",
              "      <td>-0.000288</td>\n",
              "      <td>-0.000286</td>\n",
              "      <td>-0.000288</td>\n",
              "      <td>-0.000278</td>\n",
              "      <td>-0.000272</td>\n",
              "    </tr>\n",
              "    <tr>\n",
              "      <th>4</th>\n",
              "      <td>0.000610</td>\n",
              "      <td>0.000608</td>\n",
              "      <td>0.000609</td>\n",
              "      <td>0.000608</td>\n",
              "      <td>0.000610</td>\n",
              "      <td>0.000610</td>\n",
              "      <td>0.000605</td>\n",
              "      <td>0.000608</td>\n",
              "      <td>0.000606</td>\n",
              "      <td>0.000605</td>\n",
              "      <td>...</td>\n",
              "      <td>-0.000376</td>\n",
              "      <td>-0.000356</td>\n",
              "      <td>-0.000340</td>\n",
              "      <td>-0.000351</td>\n",
              "      <td>-0.000322</td>\n",
              "      <td>-0.000289</td>\n",
              "      <td>-0.000287</td>\n",
              "      <td>-0.000290</td>\n",
              "      <td>-0.000280</td>\n",
              "      <td>-0.000274</td>\n",
              "    </tr>\n",
              "    <tr>\n",
              "      <th>5</th>\n",
              "      <td>0.000611</td>\n",
              "      <td>0.000608</td>\n",
              "      <td>0.000609</td>\n",
              "      <td>0.000609</td>\n",
              "      <td>0.000610</td>\n",
              "      <td>0.000611</td>\n",
              "      <td>0.000606</td>\n",
              "      <td>0.000608</td>\n",
              "      <td>0.000607</td>\n",
              "      <td>0.000605</td>\n",
              "      <td>...</td>\n",
              "      <td>-0.000376</td>\n",
              "      <td>-0.000356</td>\n",
              "      <td>-0.000340</td>\n",
              "      <td>-0.000352</td>\n",
              "      <td>-0.000322</td>\n",
              "      <td>-0.000290</td>\n",
              "      <td>-0.000288</td>\n",
              "      <td>-0.000291</td>\n",
              "      <td>-0.000280</td>\n",
              "      <td>-0.000274</td>\n",
              "    </tr>\n",
              "    <tr>\n",
              "      <th>6</th>\n",
              "      <td>0.000606</td>\n",
              "      <td>0.000603</td>\n",
              "      <td>0.000604</td>\n",
              "      <td>0.000604</td>\n",
              "      <td>0.000605</td>\n",
              "      <td>0.000606</td>\n",
              "      <td>0.000600</td>\n",
              "      <td>0.000603</td>\n",
              "      <td>0.000601</td>\n",
              "      <td>0.000600</td>\n",
              "      <td>...</td>\n",
              "      <td>-0.000370</td>\n",
              "      <td>-0.000350</td>\n",
              "      <td>-0.000334</td>\n",
              "      <td>-0.000345</td>\n",
              "      <td>-0.000316</td>\n",
              "      <td>-0.000284</td>\n",
              "      <td>-0.000282</td>\n",
              "      <td>-0.000285</td>\n",
              "      <td>-0.000275</td>\n",
              "      <td>-0.000269</td>\n",
              "    </tr>\n",
              "    <tr>\n",
              "      <th>7</th>\n",
              "      <td>0.000608</td>\n",
              "      <td>0.000606</td>\n",
              "      <td>0.000606</td>\n",
              "      <td>0.000606</td>\n",
              "      <td>0.000608</td>\n",
              "      <td>0.000608</td>\n",
              "      <td>0.000603</td>\n",
              "      <td>0.000605</td>\n",
              "      <td>0.000604</td>\n",
              "      <td>0.000603</td>\n",
              "      <td>...</td>\n",
              "      <td>-0.000373</td>\n",
              "      <td>-0.000353</td>\n",
              "      <td>-0.000337</td>\n",
              "      <td>-0.000349</td>\n",
              "      <td>-0.000319</td>\n",
              "      <td>-0.000287</td>\n",
              "      <td>-0.000285</td>\n",
              "      <td>-0.000288</td>\n",
              "      <td>-0.000277</td>\n",
              "      <td>-0.000271</td>\n",
              "    </tr>\n",
              "    <tr>\n",
              "      <th>8</th>\n",
              "      <td>0.000607</td>\n",
              "      <td>0.000604</td>\n",
              "      <td>0.000605</td>\n",
              "      <td>0.000605</td>\n",
              "      <td>0.000606</td>\n",
              "      <td>0.000607</td>\n",
              "      <td>0.000601</td>\n",
              "      <td>0.000604</td>\n",
              "      <td>0.000602</td>\n",
              "      <td>0.000601</td>\n",
              "      <td>...</td>\n",
              "      <td>-0.000371</td>\n",
              "      <td>-0.000351</td>\n",
              "      <td>-0.000335</td>\n",
              "      <td>-0.000347</td>\n",
              "      <td>-0.000317</td>\n",
              "      <td>-0.000285</td>\n",
              "      <td>-0.000283</td>\n",
              "      <td>-0.000286</td>\n",
              "      <td>-0.000276</td>\n",
              "      <td>-0.000270</td>\n",
              "    </tr>\n",
              "    <tr>\n",
              "      <th>9</th>\n",
              "      <td>0.000605</td>\n",
              "      <td>0.000603</td>\n",
              "      <td>0.000604</td>\n",
              "      <td>0.000603</td>\n",
              "      <td>0.000605</td>\n",
              "      <td>0.000605</td>\n",
              "      <td>0.000600</td>\n",
              "      <td>0.000603</td>\n",
              "      <td>0.000601</td>\n",
              "      <td>0.000600</td>\n",
              "      <td>...</td>\n",
              "      <td>-0.000369</td>\n",
              "      <td>-0.000349</td>\n",
              "      <td>-0.000334</td>\n",
              "      <td>-0.000345</td>\n",
              "      <td>-0.000316</td>\n",
              "      <td>-0.000284</td>\n",
              "      <td>-0.000282</td>\n",
              "      <td>-0.000285</td>\n",
              "      <td>-0.000274</td>\n",
              "      <td>-0.000268</td>\n",
              "    </tr>\n",
              "  </tbody>\n",
              "</table>\n",
              "<p>10 rows × 5481 columns</p>\n",
              "</div>\n",
              "      <button class=\"colab-df-convert\" onclick=\"convertToInteractive('df-84f00288-822c-4d8d-ae92-50966ea0ae58')\"\n",
              "              title=\"Convert this dataframe to an interactive table.\"\n",
              "              style=\"display:none;\">\n",
              "        \n",
              "  <svg xmlns=\"http://www.w3.org/2000/svg\" height=\"24px\"viewBox=\"0 0 24 24\"\n",
              "       width=\"24px\">\n",
              "    <path d=\"M0 0h24v24H0V0z\" fill=\"none\"/>\n",
              "    <path d=\"M18.56 5.44l.94 2.06.94-2.06 2.06-.94-2.06-.94-.94-2.06-.94 2.06-2.06.94zm-11 1L8.5 8.5l.94-2.06 2.06-.94-2.06-.94L8.5 2.5l-.94 2.06-2.06.94zm10 10l.94 2.06.94-2.06 2.06-.94-2.06-.94-.94-2.06-.94 2.06-2.06.94z\"/><path d=\"M17.41 7.96l-1.37-1.37c-.4-.4-.92-.59-1.43-.59-.52 0-1.04.2-1.43.59L10.3 9.45l-7.72 7.72c-.78.78-.78 2.05 0 2.83L4 21.41c.39.39.9.59 1.41.59.51 0 1.02-.2 1.41-.59l7.78-7.78 2.81-2.81c.8-.78.8-2.07 0-2.86zM5.41 20L4 18.59l7.72-7.72 1.47 1.35L5.41 20z\"/>\n",
              "  </svg>\n",
              "      </button>\n",
              "      \n",
              "  <style>\n",
              "    .colab-df-container {\n",
              "      display:flex;\n",
              "      flex-wrap:wrap;\n",
              "      gap: 12px;\n",
              "    }\n",
              "\n",
              "    .colab-df-convert {\n",
              "      background-color: #E8F0FE;\n",
              "      border: none;\n",
              "      border-radius: 50%;\n",
              "      cursor: pointer;\n",
              "      display: none;\n",
              "      fill: #1967D2;\n",
              "      height: 32px;\n",
              "      padding: 0 0 0 0;\n",
              "      width: 32px;\n",
              "    }\n",
              "\n",
              "    .colab-df-convert:hover {\n",
              "      background-color: #E2EBFA;\n",
              "      box-shadow: 0px 1px 2px rgba(60, 64, 67, 0.3), 0px 1px 3px 1px rgba(60, 64, 67, 0.15);\n",
              "      fill: #174EA6;\n",
              "    }\n",
              "\n",
              "    [theme=dark] .colab-df-convert {\n",
              "      background-color: #3B4455;\n",
              "      fill: #D2E3FC;\n",
              "    }\n",
              "\n",
              "    [theme=dark] .colab-df-convert:hover {\n",
              "      background-color: #434B5C;\n",
              "      box-shadow: 0px 1px 3px 1px rgba(0, 0, 0, 0.15);\n",
              "      filter: drop-shadow(0px 1px 2px rgba(0, 0, 0, 0.3));\n",
              "      fill: #FFFFFF;\n",
              "    }\n",
              "  </style>\n",
              "\n",
              "      <script>\n",
              "        const buttonEl =\n",
              "          document.querySelector('#df-84f00288-822c-4d8d-ae92-50966ea0ae58 button.colab-df-convert');\n",
              "        buttonEl.style.display =\n",
              "          google.colab.kernel.accessAllowed ? 'block' : 'none';\n",
              "\n",
              "        async function convertToInteractive(key) {\n",
              "          const element = document.querySelector('#df-84f00288-822c-4d8d-ae92-50966ea0ae58');\n",
              "          const dataTable =\n",
              "            await google.colab.kernel.invokeFunction('convertToInteractive',\n",
              "                                                     [key], {});\n",
              "          if (!dataTable) return;\n",
              "\n",
              "          const docLinkHtml = 'Like what you see? Visit the ' +\n",
              "            '<a target=\"_blank\" href=https://colab.research.google.com/notebooks/data_table.ipynb>data table notebook</a>'\n",
              "            + ' to learn more about interactive tables.';\n",
              "          element.innerHTML = '';\n",
              "          dataTable['output_type'] = 'display_data';\n",
              "          await google.colab.output.renderOutput(dataTable, element);\n",
              "          const docLink = document.createElement('div');\n",
              "          docLink.innerHTML = docLinkHtml;\n",
              "          element.appendChild(docLink);\n",
              "        }\n",
              "      </script>\n",
              "    </div>\n",
              "  </div>\n",
              "  "
            ]
          },
          "metadata": {},
          "execution_count": 59
        }
      ]
    }
  ]
}